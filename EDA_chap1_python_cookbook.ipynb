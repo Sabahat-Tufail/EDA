{
  "nbformat": 4,
  "nbformat_minor": 0,
  "metadata": {
    "colab": {
      "provenance": [],
      "authorship_tag": "ABX9TyPTKqNJE9rgurrelBKxkf+p",
      "include_colab_link": true
    },
    "kernelspec": {
      "name": "python3",
      "display_name": "Python 3"
    },
    "language_info": {
      "name": "python"
    }
  },
  "cells": [
    {
      "cell_type": "markdown",
      "metadata": {
        "id": "view-in-github",
        "colab_type": "text"
      },
      "source": [
        "<a href=\"https://colab.research.google.com/github/Sabahat-Tufail/EDA/blob/main/EDA_chap1_python_cookbook.ipynb\" target=\"_parent\"><img src=\"https://colab.research.google.com/assets/colab-badge.svg\" alt=\"Open In Colab\"/></a>"
      ]
    },
    {
      "cell_type": "code",
      "execution_count": null,
      "metadata": {
        "id": "XWtOHw3DHowQ"
      },
      "outputs": [],
      "source": [
        "import numpy as np\n",
        "import pandas as pd\n",
        "import matplotlib.pyplot as plt\n",
        "import seaborn as sns"
      ]
    },
    {
      "cell_type": "code",
      "source": [
        "from google.colab import files\n",
        "uploaded = files.upload()\n"
      ],
      "metadata": {
        "colab": {
          "base_uri": "https://localhost:8080/",
          "height": 71
        },
        "id": "NpAooROGOxAs",
        "outputId": "72b1a96b-d6cc-409c-89df-d2e3eebf6789"
      },
      "execution_count": null,
      "outputs": [
        {
          "output_type": "display_data",
          "data": {
            "text/plain": [
              "<IPython.core.display.HTML object>"
            ],
            "text/html": [
              "\n",
              "     <input type=\"file\" id=\"files-5ce2d787-7957-4296-9f08-1c3f3f6fd234\" name=\"files[]\" multiple disabled\n",
              "        style=\"border:none\" />\n",
              "     <output id=\"result-5ce2d787-7957-4296-9f08-1c3f3f6fd234\">\n",
              "      Upload widget is only available when the cell has been executed in the\n",
              "      current browser session. Please rerun this cell to enable.\n",
              "      </output>\n",
              "      <script>// Copyright 2017 Google LLC\n",
              "//\n",
              "// Licensed under the Apache License, Version 2.0 (the \"License\");\n",
              "// you may not use this file except in compliance with the License.\n",
              "// You may obtain a copy of the License at\n",
              "//\n",
              "//      http://www.apache.org/licenses/LICENSE-2.0\n",
              "//\n",
              "// Unless required by applicable law or agreed to in writing, software\n",
              "// distributed under the License is distributed on an \"AS IS\" BASIS,\n",
              "// WITHOUT WARRANTIES OR CONDITIONS OF ANY KIND, either express or implied.\n",
              "// See the License for the specific language governing permissions and\n",
              "// limitations under the License.\n",
              "\n",
              "/**\n",
              " * @fileoverview Helpers for google.colab Python module.\n",
              " */\n",
              "(function(scope) {\n",
              "function span(text, styleAttributes = {}) {\n",
              "  const element = document.createElement('span');\n",
              "  element.textContent = text;\n",
              "  for (const key of Object.keys(styleAttributes)) {\n",
              "    element.style[key] = styleAttributes[key];\n",
              "  }\n",
              "  return element;\n",
              "}\n",
              "\n",
              "// Max number of bytes which will be uploaded at a time.\n",
              "const MAX_PAYLOAD_SIZE = 100 * 1024;\n",
              "\n",
              "function _uploadFiles(inputId, outputId) {\n",
              "  const steps = uploadFilesStep(inputId, outputId);\n",
              "  const outputElement = document.getElementById(outputId);\n",
              "  // Cache steps on the outputElement to make it available for the next call\n",
              "  // to uploadFilesContinue from Python.\n",
              "  outputElement.steps = steps;\n",
              "\n",
              "  return _uploadFilesContinue(outputId);\n",
              "}\n",
              "\n",
              "// This is roughly an async generator (not supported in the browser yet),\n",
              "// where there are multiple asynchronous steps and the Python side is going\n",
              "// to poll for completion of each step.\n",
              "// This uses a Promise to block the python side on completion of each step,\n",
              "// then passes the result of the previous step as the input to the next step.\n",
              "function _uploadFilesContinue(outputId) {\n",
              "  const outputElement = document.getElementById(outputId);\n",
              "  const steps = outputElement.steps;\n",
              "\n",
              "  const next = steps.next(outputElement.lastPromiseValue);\n",
              "  return Promise.resolve(next.value.promise).then((value) => {\n",
              "    // Cache the last promise value to make it available to the next\n",
              "    // step of the generator.\n",
              "    outputElement.lastPromiseValue = value;\n",
              "    return next.value.response;\n",
              "  });\n",
              "}\n",
              "\n",
              "/**\n",
              " * Generator function which is called between each async step of the upload\n",
              " * process.\n",
              " * @param {string} inputId Element ID of the input file picker element.\n",
              " * @param {string} outputId Element ID of the output display.\n",
              " * @return {!Iterable<!Object>} Iterable of next steps.\n",
              " */\n",
              "function* uploadFilesStep(inputId, outputId) {\n",
              "  const inputElement = document.getElementById(inputId);\n",
              "  inputElement.disabled = false;\n",
              "\n",
              "  const outputElement = document.getElementById(outputId);\n",
              "  outputElement.innerHTML = '';\n",
              "\n",
              "  const pickedPromise = new Promise((resolve) => {\n",
              "    inputElement.addEventListener('change', (e) => {\n",
              "      resolve(e.target.files);\n",
              "    });\n",
              "  });\n",
              "\n",
              "  const cancel = document.createElement('button');\n",
              "  inputElement.parentElement.appendChild(cancel);\n",
              "  cancel.textContent = 'Cancel upload';\n",
              "  const cancelPromise = new Promise((resolve) => {\n",
              "    cancel.onclick = () => {\n",
              "      resolve(null);\n",
              "    };\n",
              "  });\n",
              "\n",
              "  // Wait for the user to pick the files.\n",
              "  const files = yield {\n",
              "    promise: Promise.race([pickedPromise, cancelPromise]),\n",
              "    response: {\n",
              "      action: 'starting',\n",
              "    }\n",
              "  };\n",
              "\n",
              "  cancel.remove();\n",
              "\n",
              "  // Disable the input element since further picks are not allowed.\n",
              "  inputElement.disabled = true;\n",
              "\n",
              "  if (!files) {\n",
              "    return {\n",
              "      response: {\n",
              "        action: 'complete',\n",
              "      }\n",
              "    };\n",
              "  }\n",
              "\n",
              "  for (const file of files) {\n",
              "    const li = document.createElement('li');\n",
              "    li.append(span(file.name, {fontWeight: 'bold'}));\n",
              "    li.append(span(\n",
              "        `(${file.type || 'n/a'}) - ${file.size} bytes, ` +\n",
              "        `last modified: ${\n",
              "            file.lastModifiedDate ? file.lastModifiedDate.toLocaleDateString() :\n",
              "                                    'n/a'} - `));\n",
              "    const percent = span('0% done');\n",
              "    li.appendChild(percent);\n",
              "\n",
              "    outputElement.appendChild(li);\n",
              "\n",
              "    const fileDataPromise = new Promise((resolve) => {\n",
              "      const reader = new FileReader();\n",
              "      reader.onload = (e) => {\n",
              "        resolve(e.target.result);\n",
              "      };\n",
              "      reader.readAsArrayBuffer(file);\n",
              "    });\n",
              "    // Wait for the data to be ready.\n",
              "    let fileData = yield {\n",
              "      promise: fileDataPromise,\n",
              "      response: {\n",
              "        action: 'continue',\n",
              "      }\n",
              "    };\n",
              "\n",
              "    // Use a chunked sending to avoid message size limits. See b/62115660.\n",
              "    let position = 0;\n",
              "    do {\n",
              "      const length = Math.min(fileData.byteLength - position, MAX_PAYLOAD_SIZE);\n",
              "      const chunk = new Uint8Array(fileData, position, length);\n",
              "      position += length;\n",
              "\n",
              "      const base64 = btoa(String.fromCharCode.apply(null, chunk));\n",
              "      yield {\n",
              "        response: {\n",
              "          action: 'append',\n",
              "          file: file.name,\n",
              "          data: base64,\n",
              "        },\n",
              "      };\n",
              "\n",
              "      let percentDone = fileData.byteLength === 0 ?\n",
              "          100 :\n",
              "          Math.round((position / fileData.byteLength) * 100);\n",
              "      percent.textContent = `${percentDone}% done`;\n",
              "\n",
              "    } while (position < fileData.byteLength);\n",
              "  }\n",
              "\n",
              "  // All done.\n",
              "  yield {\n",
              "    response: {\n",
              "      action: 'complete',\n",
              "    }\n",
              "  };\n",
              "}\n",
              "\n",
              "scope.google = scope.google || {};\n",
              "scope.google.colab = scope.google.colab || {};\n",
              "scope.google.colab._files = {\n",
              "  _uploadFiles,\n",
              "  _uploadFilesContinue,\n",
              "};\n",
              "})(self);\n",
              "</script> "
            ]
          },
          "metadata": {}
        },
        {
          "output_type": "stream",
          "name": "stdout",
          "text": [
            "Saving Balaji Fast Food Sales.csv to Balaji Fast Food Sales.csv\n"
          ]
        }
      ]
    },
    {
      "cell_type": "code",
      "source": [
        "df = pd.read_csv(\"Balaji Fast Food Sales.csv\")\n"
      ],
      "metadata": {
        "id": "Zy7MhGOUNMOC"
      },
      "execution_count": null,
      "outputs": []
    },
    {
      "cell_type": "code",
      "source": [
        "df.head()"
      ],
      "metadata": {
        "colab": {
          "base_uri": "https://localhost:8080/",
          "height": 206
        },
        "id": "jKXx0ezBN0sN",
        "outputId": "b5dd0e4b-c6a8-4c47-e260-ed2a35d64314"
      },
      "execution_count": null,
      "outputs": [
        {
          "output_type": "execute_result",
          "data": {
            "text/plain": [
              "   order_id        date        item_name  item_type  item_price  quantity  \\\n",
              "0         1  07-03-2022         Aalopuri   Fastfood          20        13   \n",
              "1         2   8/23/2022          Vadapav   Fastfood          20        15   \n",
              "2         3  11/20/2022          Vadapav   Fastfood          20         1   \n",
              "3         4  02-03-2023  Sugarcane juice  Beverages          25         6   \n",
              "4         5  10-02-2022  Sugarcane juice  Beverages          25         8   \n",
              "\n",
              "   transaction_amount transaction_type received_by time_of_sale  \n",
              "0                 260              NaN         Mr.        Night  \n",
              "1                 300             Cash         Mr.    Afternoon  \n",
              "2                  20             Cash         Mr.    Afternoon  \n",
              "3                 150           Online         Mr.        Night  \n",
              "4                 200           Online         Mr.      Evening  "
            ],
            "text/html": [
              "\n",
              "  <div id=\"df-05a548af-550f-4715-b9fe-935f8153941a\" class=\"colab-df-container\">\n",
              "    <div>\n",
              "<style scoped>\n",
              "    .dataframe tbody tr th:only-of-type {\n",
              "        vertical-align: middle;\n",
              "    }\n",
              "\n",
              "    .dataframe tbody tr th {\n",
              "        vertical-align: top;\n",
              "    }\n",
              "\n",
              "    .dataframe thead th {\n",
              "        text-align: right;\n",
              "    }\n",
              "</style>\n",
              "<table border=\"1\" class=\"dataframe\">\n",
              "  <thead>\n",
              "    <tr style=\"text-align: right;\">\n",
              "      <th></th>\n",
              "      <th>order_id</th>\n",
              "      <th>date</th>\n",
              "      <th>item_name</th>\n",
              "      <th>item_type</th>\n",
              "      <th>item_price</th>\n",
              "      <th>quantity</th>\n",
              "      <th>transaction_amount</th>\n",
              "      <th>transaction_type</th>\n",
              "      <th>received_by</th>\n",
              "      <th>time_of_sale</th>\n",
              "    </tr>\n",
              "  </thead>\n",
              "  <tbody>\n",
              "    <tr>\n",
              "      <th>0</th>\n",
              "      <td>1</td>\n",
              "      <td>07-03-2022</td>\n",
              "      <td>Aalopuri</td>\n",
              "      <td>Fastfood</td>\n",
              "      <td>20</td>\n",
              "      <td>13</td>\n",
              "      <td>260</td>\n",
              "      <td>NaN</td>\n",
              "      <td>Mr.</td>\n",
              "      <td>Night</td>\n",
              "    </tr>\n",
              "    <tr>\n",
              "      <th>1</th>\n",
              "      <td>2</td>\n",
              "      <td>8/23/2022</td>\n",
              "      <td>Vadapav</td>\n",
              "      <td>Fastfood</td>\n",
              "      <td>20</td>\n",
              "      <td>15</td>\n",
              "      <td>300</td>\n",
              "      <td>Cash</td>\n",
              "      <td>Mr.</td>\n",
              "      <td>Afternoon</td>\n",
              "    </tr>\n",
              "    <tr>\n",
              "      <th>2</th>\n",
              "      <td>3</td>\n",
              "      <td>11/20/2022</td>\n",
              "      <td>Vadapav</td>\n",
              "      <td>Fastfood</td>\n",
              "      <td>20</td>\n",
              "      <td>1</td>\n",
              "      <td>20</td>\n",
              "      <td>Cash</td>\n",
              "      <td>Mr.</td>\n",
              "      <td>Afternoon</td>\n",
              "    </tr>\n",
              "    <tr>\n",
              "      <th>3</th>\n",
              "      <td>4</td>\n",
              "      <td>02-03-2023</td>\n",
              "      <td>Sugarcane juice</td>\n",
              "      <td>Beverages</td>\n",
              "      <td>25</td>\n",
              "      <td>6</td>\n",
              "      <td>150</td>\n",
              "      <td>Online</td>\n",
              "      <td>Mr.</td>\n",
              "      <td>Night</td>\n",
              "    </tr>\n",
              "    <tr>\n",
              "      <th>4</th>\n",
              "      <td>5</td>\n",
              "      <td>10-02-2022</td>\n",
              "      <td>Sugarcane juice</td>\n",
              "      <td>Beverages</td>\n",
              "      <td>25</td>\n",
              "      <td>8</td>\n",
              "      <td>200</td>\n",
              "      <td>Online</td>\n",
              "      <td>Mr.</td>\n",
              "      <td>Evening</td>\n",
              "    </tr>\n",
              "  </tbody>\n",
              "</table>\n",
              "</div>\n",
              "    <div class=\"colab-df-buttons\">\n",
              "\n",
              "  <div class=\"colab-df-container\">\n",
              "    <button class=\"colab-df-convert\" onclick=\"convertToInteractive('df-05a548af-550f-4715-b9fe-935f8153941a')\"\n",
              "            title=\"Convert this dataframe to an interactive table.\"\n",
              "            style=\"display:none;\">\n",
              "\n",
              "  <svg xmlns=\"http://www.w3.org/2000/svg\" height=\"24px\" viewBox=\"0 -960 960 960\">\n",
              "    <path d=\"M120-120v-720h720v720H120Zm60-500h600v-160H180v160Zm220 220h160v-160H400v160Zm0 220h160v-160H400v160ZM180-400h160v-160H180v160Zm440 0h160v-160H620v160ZM180-180h160v-160H180v160Zm440 0h160v-160H620v160Z\"/>\n",
              "  </svg>\n",
              "    </button>\n",
              "\n",
              "  <style>\n",
              "    .colab-df-container {\n",
              "      display:flex;\n",
              "      gap: 12px;\n",
              "    }\n",
              "\n",
              "    .colab-df-convert {\n",
              "      background-color: #E8F0FE;\n",
              "      border: none;\n",
              "      border-radius: 50%;\n",
              "      cursor: pointer;\n",
              "      display: none;\n",
              "      fill: #1967D2;\n",
              "      height: 32px;\n",
              "      padding: 0 0 0 0;\n",
              "      width: 32px;\n",
              "    }\n",
              "\n",
              "    .colab-df-convert:hover {\n",
              "      background-color: #E2EBFA;\n",
              "      box-shadow: 0px 1px 2px rgba(60, 64, 67, 0.3), 0px 1px 3px 1px rgba(60, 64, 67, 0.15);\n",
              "      fill: #174EA6;\n",
              "    }\n",
              "\n",
              "    .colab-df-buttons div {\n",
              "      margin-bottom: 4px;\n",
              "    }\n",
              "\n",
              "    [theme=dark] .colab-df-convert {\n",
              "      background-color: #3B4455;\n",
              "      fill: #D2E3FC;\n",
              "    }\n",
              "\n",
              "    [theme=dark] .colab-df-convert:hover {\n",
              "      background-color: #434B5C;\n",
              "      box-shadow: 0px 1px 3px 1px rgba(0, 0, 0, 0.15);\n",
              "      filter: drop-shadow(0px 1px 2px rgba(0, 0, 0, 0.3));\n",
              "      fill: #FFFFFF;\n",
              "    }\n",
              "  </style>\n",
              "\n",
              "    <script>\n",
              "      const buttonEl =\n",
              "        document.querySelector('#df-05a548af-550f-4715-b9fe-935f8153941a button.colab-df-convert');\n",
              "      buttonEl.style.display =\n",
              "        google.colab.kernel.accessAllowed ? 'block' : 'none';\n",
              "\n",
              "      async function convertToInteractive(key) {\n",
              "        const element = document.querySelector('#df-05a548af-550f-4715-b9fe-935f8153941a');\n",
              "        const dataTable =\n",
              "          await google.colab.kernel.invokeFunction('convertToInteractive',\n",
              "                                                    [key], {});\n",
              "        if (!dataTable) return;\n",
              "\n",
              "        const docLinkHtml = 'Like what you see? Visit the ' +\n",
              "          '<a target=\"_blank\" href=https://colab.research.google.com/notebooks/data_table.ipynb>data table notebook</a>'\n",
              "          + ' to learn more about interactive tables.';\n",
              "        element.innerHTML = '';\n",
              "        dataTable['output_type'] = 'display_data';\n",
              "        await google.colab.output.renderOutput(dataTable, element);\n",
              "        const docLink = document.createElement('div');\n",
              "        docLink.innerHTML = docLinkHtml;\n",
              "        element.appendChild(docLink);\n",
              "      }\n",
              "    </script>\n",
              "  </div>\n",
              "\n",
              "\n",
              "    <div id=\"df-c0d34555-245e-4736-9a74-37b0305c1629\">\n",
              "      <button class=\"colab-df-quickchart\" onclick=\"quickchart('df-c0d34555-245e-4736-9a74-37b0305c1629')\"\n",
              "                title=\"Suggest charts\"\n",
              "                style=\"display:none;\">\n",
              "\n",
              "<svg xmlns=\"http://www.w3.org/2000/svg\" height=\"24px\"viewBox=\"0 0 24 24\"\n",
              "     width=\"24px\">\n",
              "    <g>\n",
              "        <path d=\"M19 3H5c-1.1 0-2 .9-2 2v14c0 1.1.9 2 2 2h14c1.1 0 2-.9 2-2V5c0-1.1-.9-2-2-2zM9 17H7v-7h2v7zm4 0h-2V7h2v10zm4 0h-2v-4h2v4z\"/>\n",
              "    </g>\n",
              "</svg>\n",
              "      </button>\n",
              "\n",
              "<style>\n",
              "  .colab-df-quickchart {\n",
              "      --bg-color: #E8F0FE;\n",
              "      --fill-color: #1967D2;\n",
              "      --hover-bg-color: #E2EBFA;\n",
              "      --hover-fill-color: #174EA6;\n",
              "      --disabled-fill-color: #AAA;\n",
              "      --disabled-bg-color: #DDD;\n",
              "  }\n",
              "\n",
              "  [theme=dark] .colab-df-quickchart {\n",
              "      --bg-color: #3B4455;\n",
              "      --fill-color: #D2E3FC;\n",
              "      --hover-bg-color: #434B5C;\n",
              "      --hover-fill-color: #FFFFFF;\n",
              "      --disabled-bg-color: #3B4455;\n",
              "      --disabled-fill-color: #666;\n",
              "  }\n",
              "\n",
              "  .colab-df-quickchart {\n",
              "    background-color: var(--bg-color);\n",
              "    border: none;\n",
              "    border-radius: 50%;\n",
              "    cursor: pointer;\n",
              "    display: none;\n",
              "    fill: var(--fill-color);\n",
              "    height: 32px;\n",
              "    padding: 0;\n",
              "    width: 32px;\n",
              "  }\n",
              "\n",
              "  .colab-df-quickchart:hover {\n",
              "    background-color: var(--hover-bg-color);\n",
              "    box-shadow: 0 1px 2px rgba(60, 64, 67, 0.3), 0 1px 3px 1px rgba(60, 64, 67, 0.15);\n",
              "    fill: var(--button-hover-fill-color);\n",
              "  }\n",
              "\n",
              "  .colab-df-quickchart-complete:disabled,\n",
              "  .colab-df-quickchart-complete:disabled:hover {\n",
              "    background-color: var(--disabled-bg-color);\n",
              "    fill: var(--disabled-fill-color);\n",
              "    box-shadow: none;\n",
              "  }\n",
              "\n",
              "  .colab-df-spinner {\n",
              "    border: 2px solid var(--fill-color);\n",
              "    border-color: transparent;\n",
              "    border-bottom-color: var(--fill-color);\n",
              "    animation:\n",
              "      spin 1s steps(1) infinite;\n",
              "  }\n",
              "\n",
              "  @keyframes spin {\n",
              "    0% {\n",
              "      border-color: transparent;\n",
              "      border-bottom-color: var(--fill-color);\n",
              "      border-left-color: var(--fill-color);\n",
              "    }\n",
              "    20% {\n",
              "      border-color: transparent;\n",
              "      border-left-color: var(--fill-color);\n",
              "      border-top-color: var(--fill-color);\n",
              "    }\n",
              "    30% {\n",
              "      border-color: transparent;\n",
              "      border-left-color: var(--fill-color);\n",
              "      border-top-color: var(--fill-color);\n",
              "      border-right-color: var(--fill-color);\n",
              "    }\n",
              "    40% {\n",
              "      border-color: transparent;\n",
              "      border-right-color: var(--fill-color);\n",
              "      border-top-color: var(--fill-color);\n",
              "    }\n",
              "    60% {\n",
              "      border-color: transparent;\n",
              "      border-right-color: var(--fill-color);\n",
              "    }\n",
              "    80% {\n",
              "      border-color: transparent;\n",
              "      border-right-color: var(--fill-color);\n",
              "      border-bottom-color: var(--fill-color);\n",
              "    }\n",
              "    90% {\n",
              "      border-color: transparent;\n",
              "      border-bottom-color: var(--fill-color);\n",
              "    }\n",
              "  }\n",
              "</style>\n",
              "\n",
              "      <script>\n",
              "        async function quickchart(key) {\n",
              "          const quickchartButtonEl =\n",
              "            document.querySelector('#' + key + ' button');\n",
              "          quickchartButtonEl.disabled = true;  // To prevent multiple clicks.\n",
              "          quickchartButtonEl.classList.add('colab-df-spinner');\n",
              "          try {\n",
              "            const charts = await google.colab.kernel.invokeFunction(\n",
              "                'suggestCharts', [key], {});\n",
              "          } catch (error) {\n",
              "            console.error('Error during call to suggestCharts:', error);\n",
              "          }\n",
              "          quickchartButtonEl.classList.remove('colab-df-spinner');\n",
              "          quickchartButtonEl.classList.add('colab-df-quickchart-complete');\n",
              "        }\n",
              "        (() => {\n",
              "          let quickchartButtonEl =\n",
              "            document.querySelector('#df-c0d34555-245e-4736-9a74-37b0305c1629 button');\n",
              "          quickchartButtonEl.style.display =\n",
              "            google.colab.kernel.accessAllowed ? 'block' : 'none';\n",
              "        })();\n",
              "      </script>\n",
              "    </div>\n",
              "\n",
              "    </div>\n",
              "  </div>\n"
            ],
            "application/vnd.google.colaboratory.intrinsic+json": {
              "type": "dataframe",
              "variable_name": "df",
              "summary": "{\n  \"name\": \"df\",\n  \"rows\": 1000,\n  \"fields\": [\n    {\n      \"column\": \"order_id\",\n      \"properties\": {\n        \"dtype\": \"number\",\n        \"std\": 288,\n        \"min\": 1,\n        \"max\": 1000,\n        \"num_unique_values\": 1000,\n        \"samples\": [\n          522,\n          738,\n          741\n        ],\n        \"semantic_type\": \"\",\n        \"description\": \"\"\n      }\n    },\n    {\n      \"column\": \"date\",\n      \"properties\": {\n        \"dtype\": \"category\",\n        \"num_unique_values\": 348,\n        \"samples\": [\n          \"03-01-2023\",\n          \"09-01-2022\",\n          \"12/16/2022\"\n        ],\n        \"semantic_type\": \"\",\n        \"description\": \"\"\n      }\n    },\n    {\n      \"column\": \"item_name\",\n      \"properties\": {\n        \"dtype\": \"category\",\n        \"num_unique_values\": 7,\n        \"samples\": [\n          \"Aalopuri\",\n          \"Vadapav\",\n          \"Sandwich\"\n        ],\n        \"semantic_type\": \"\",\n        \"description\": \"\"\n      }\n    },\n    {\n      \"column\": \"item_type\",\n      \"properties\": {\n        \"dtype\": \"category\",\n        \"num_unique_values\": 2,\n        \"samples\": [\n          \"Beverages\",\n          \"Fastfood\"\n        ],\n        \"semantic_type\": \"\",\n        \"description\": \"\"\n      }\n    },\n    {\n      \"column\": \"item_price\",\n      \"properties\": {\n        \"dtype\": \"number\",\n        \"std\": 14,\n        \"min\": 20,\n        \"max\": 60,\n        \"num_unique_values\": 5,\n        \"samples\": [\n          25,\n          40\n        ],\n        \"semantic_type\": \"\",\n        \"description\": \"\"\n      }\n    },\n    {\n      \"column\": \"quantity\",\n      \"properties\": {\n        \"dtype\": \"number\",\n        \"std\": 4,\n        \"min\": 1,\n        \"max\": 15,\n        \"num_unique_values\": 15,\n        \"samples\": [\n          4,\n          11\n        ],\n        \"semantic_type\": \"\",\n        \"description\": \"\"\n      }\n    },\n    {\n      \"column\": \"transaction_amount\",\n      \"properties\": {\n        \"dtype\": \"number\",\n        \"std\": 204,\n        \"min\": 20,\n        \"max\": 900,\n        \"num_unique_values\": 48,\n        \"samples\": [\n          120,\n          25\n        ],\n        \"semantic_type\": \"\",\n        \"description\": \"\"\n      }\n    },\n    {\n      \"column\": \"transaction_type\",\n      \"properties\": {\n        \"dtype\": \"category\",\n        \"num_unique_values\": 2,\n        \"samples\": [\n          \"Online\",\n          \"Cash\"\n        ],\n        \"semantic_type\": \"\",\n        \"description\": \"\"\n      }\n    },\n    {\n      \"column\": \"received_by\",\n      \"properties\": {\n        \"dtype\": \"category\",\n        \"num_unique_values\": 2,\n        \"samples\": [\n          \"Mrs.\",\n          \"Mr.\"\n        ],\n        \"semantic_type\": \"\",\n        \"description\": \"\"\n      }\n    },\n    {\n      \"column\": \"time_of_sale\",\n      \"properties\": {\n        \"dtype\": \"category\",\n        \"num_unique_values\": 5,\n        \"samples\": [\n          \"Afternoon\",\n          \"Midnight\"\n        ],\n        \"semantic_type\": \"\",\n        \"description\": \"\"\n      }\n    }\n  ]\n}"
            }
          },
          "metadata": {},
          "execution_count": 4
        }
      ]
    },
    {
      "cell_type": "code",
      "source": [],
      "metadata": {
        "id": "KNBoyIykPI1G"
      },
      "execution_count": null,
      "outputs": []
    },
    {
      "cell_type": "code",
      "source": [
        "#display info about data set\n",
        "df.head()\n"
      ],
      "metadata": {
        "colab": {
          "base_uri": "https://localhost:8080/",
          "height": 206
        },
        "id": "Mhqp5GJsPfZo",
        "outputId": "a99fbc7c-5b69-4ae3-fcb1-43b71b34c7e2"
      },
      "execution_count": null,
      "outputs": [
        {
          "output_type": "execute_result",
          "data": {
            "text/plain": [
              "   order_id        date        item_name  item_type  item_price  quantity  \\\n",
              "0         1  07-03-2022         Aalopuri   Fastfood          20        13   \n",
              "1         2   8/23/2022          Vadapav   Fastfood          20        15   \n",
              "2         3  11/20/2022          Vadapav   Fastfood          20         1   \n",
              "3         4  02-03-2023  Sugarcane juice  Beverages          25         6   \n",
              "4         5  10-02-2022  Sugarcane juice  Beverages          25         8   \n",
              "\n",
              "   transaction_amount transaction_type received_by time_of_sale  \n",
              "0                 260              NaN         Mr.        Night  \n",
              "1                 300             Cash         Mr.    Afternoon  \n",
              "2                  20             Cash         Mr.    Afternoon  \n",
              "3                 150           Online         Mr.        Night  \n",
              "4                 200           Online         Mr.      Evening  "
            ],
            "text/html": [
              "\n",
              "  <div id=\"df-3a5bced2-5f28-4716-b665-df667fb4a136\" class=\"colab-df-container\">\n",
              "    <div>\n",
              "<style scoped>\n",
              "    .dataframe tbody tr th:only-of-type {\n",
              "        vertical-align: middle;\n",
              "    }\n",
              "\n",
              "    .dataframe tbody tr th {\n",
              "        vertical-align: top;\n",
              "    }\n",
              "\n",
              "    .dataframe thead th {\n",
              "        text-align: right;\n",
              "    }\n",
              "</style>\n",
              "<table border=\"1\" class=\"dataframe\">\n",
              "  <thead>\n",
              "    <tr style=\"text-align: right;\">\n",
              "      <th></th>\n",
              "      <th>order_id</th>\n",
              "      <th>date</th>\n",
              "      <th>item_name</th>\n",
              "      <th>item_type</th>\n",
              "      <th>item_price</th>\n",
              "      <th>quantity</th>\n",
              "      <th>transaction_amount</th>\n",
              "      <th>transaction_type</th>\n",
              "      <th>received_by</th>\n",
              "      <th>time_of_sale</th>\n",
              "    </tr>\n",
              "  </thead>\n",
              "  <tbody>\n",
              "    <tr>\n",
              "      <th>0</th>\n",
              "      <td>1</td>\n",
              "      <td>07-03-2022</td>\n",
              "      <td>Aalopuri</td>\n",
              "      <td>Fastfood</td>\n",
              "      <td>20</td>\n",
              "      <td>13</td>\n",
              "      <td>260</td>\n",
              "      <td>NaN</td>\n",
              "      <td>Mr.</td>\n",
              "      <td>Night</td>\n",
              "    </tr>\n",
              "    <tr>\n",
              "      <th>1</th>\n",
              "      <td>2</td>\n",
              "      <td>8/23/2022</td>\n",
              "      <td>Vadapav</td>\n",
              "      <td>Fastfood</td>\n",
              "      <td>20</td>\n",
              "      <td>15</td>\n",
              "      <td>300</td>\n",
              "      <td>Cash</td>\n",
              "      <td>Mr.</td>\n",
              "      <td>Afternoon</td>\n",
              "    </tr>\n",
              "    <tr>\n",
              "      <th>2</th>\n",
              "      <td>3</td>\n",
              "      <td>11/20/2022</td>\n",
              "      <td>Vadapav</td>\n",
              "      <td>Fastfood</td>\n",
              "      <td>20</td>\n",
              "      <td>1</td>\n",
              "      <td>20</td>\n",
              "      <td>Cash</td>\n",
              "      <td>Mr.</td>\n",
              "      <td>Afternoon</td>\n",
              "    </tr>\n",
              "    <tr>\n",
              "      <th>3</th>\n",
              "      <td>4</td>\n",
              "      <td>02-03-2023</td>\n",
              "      <td>Sugarcane juice</td>\n",
              "      <td>Beverages</td>\n",
              "      <td>25</td>\n",
              "      <td>6</td>\n",
              "      <td>150</td>\n",
              "      <td>Online</td>\n",
              "      <td>Mr.</td>\n",
              "      <td>Night</td>\n",
              "    </tr>\n",
              "    <tr>\n",
              "      <th>4</th>\n",
              "      <td>5</td>\n",
              "      <td>10-02-2022</td>\n",
              "      <td>Sugarcane juice</td>\n",
              "      <td>Beverages</td>\n",
              "      <td>25</td>\n",
              "      <td>8</td>\n",
              "      <td>200</td>\n",
              "      <td>Online</td>\n",
              "      <td>Mr.</td>\n",
              "      <td>Evening</td>\n",
              "    </tr>\n",
              "  </tbody>\n",
              "</table>\n",
              "</div>\n",
              "    <div class=\"colab-df-buttons\">\n",
              "\n",
              "  <div class=\"colab-df-container\">\n",
              "    <button class=\"colab-df-convert\" onclick=\"convertToInteractive('df-3a5bced2-5f28-4716-b665-df667fb4a136')\"\n",
              "            title=\"Convert this dataframe to an interactive table.\"\n",
              "            style=\"display:none;\">\n",
              "\n",
              "  <svg xmlns=\"http://www.w3.org/2000/svg\" height=\"24px\" viewBox=\"0 -960 960 960\">\n",
              "    <path d=\"M120-120v-720h720v720H120Zm60-500h600v-160H180v160Zm220 220h160v-160H400v160Zm0 220h160v-160H400v160ZM180-400h160v-160H180v160Zm440 0h160v-160H620v160ZM180-180h160v-160H180v160Zm440 0h160v-160H620v160Z\"/>\n",
              "  </svg>\n",
              "    </button>\n",
              "\n",
              "  <style>\n",
              "    .colab-df-container {\n",
              "      display:flex;\n",
              "      gap: 12px;\n",
              "    }\n",
              "\n",
              "    .colab-df-convert {\n",
              "      background-color: #E8F0FE;\n",
              "      border: none;\n",
              "      border-radius: 50%;\n",
              "      cursor: pointer;\n",
              "      display: none;\n",
              "      fill: #1967D2;\n",
              "      height: 32px;\n",
              "      padding: 0 0 0 0;\n",
              "      width: 32px;\n",
              "    }\n",
              "\n",
              "    .colab-df-convert:hover {\n",
              "      background-color: #E2EBFA;\n",
              "      box-shadow: 0px 1px 2px rgba(60, 64, 67, 0.3), 0px 1px 3px 1px rgba(60, 64, 67, 0.15);\n",
              "      fill: #174EA6;\n",
              "    }\n",
              "\n",
              "    .colab-df-buttons div {\n",
              "      margin-bottom: 4px;\n",
              "    }\n",
              "\n",
              "    [theme=dark] .colab-df-convert {\n",
              "      background-color: #3B4455;\n",
              "      fill: #D2E3FC;\n",
              "    }\n",
              "\n",
              "    [theme=dark] .colab-df-convert:hover {\n",
              "      background-color: #434B5C;\n",
              "      box-shadow: 0px 1px 3px 1px rgba(0, 0, 0, 0.15);\n",
              "      filter: drop-shadow(0px 1px 2px rgba(0, 0, 0, 0.3));\n",
              "      fill: #FFFFFF;\n",
              "    }\n",
              "  </style>\n",
              "\n",
              "    <script>\n",
              "      const buttonEl =\n",
              "        document.querySelector('#df-3a5bced2-5f28-4716-b665-df667fb4a136 button.colab-df-convert');\n",
              "      buttonEl.style.display =\n",
              "        google.colab.kernel.accessAllowed ? 'block' : 'none';\n",
              "\n",
              "      async function convertToInteractive(key) {\n",
              "        const element = document.querySelector('#df-3a5bced2-5f28-4716-b665-df667fb4a136');\n",
              "        const dataTable =\n",
              "          await google.colab.kernel.invokeFunction('convertToInteractive',\n",
              "                                                    [key], {});\n",
              "        if (!dataTable) return;\n",
              "\n",
              "        const docLinkHtml = 'Like what you see? Visit the ' +\n",
              "          '<a target=\"_blank\" href=https://colab.research.google.com/notebooks/data_table.ipynb>data table notebook</a>'\n",
              "          + ' to learn more about interactive tables.';\n",
              "        element.innerHTML = '';\n",
              "        dataTable['output_type'] = 'display_data';\n",
              "        await google.colab.output.renderOutput(dataTable, element);\n",
              "        const docLink = document.createElement('div');\n",
              "        docLink.innerHTML = docLinkHtml;\n",
              "        element.appendChild(docLink);\n",
              "      }\n",
              "    </script>\n",
              "  </div>\n",
              "\n",
              "\n",
              "    <div id=\"df-d09d17e6-21a6-4905-8a34-6dc5c2e51ce4\">\n",
              "      <button class=\"colab-df-quickchart\" onclick=\"quickchart('df-d09d17e6-21a6-4905-8a34-6dc5c2e51ce4')\"\n",
              "                title=\"Suggest charts\"\n",
              "                style=\"display:none;\">\n",
              "\n",
              "<svg xmlns=\"http://www.w3.org/2000/svg\" height=\"24px\"viewBox=\"0 0 24 24\"\n",
              "     width=\"24px\">\n",
              "    <g>\n",
              "        <path d=\"M19 3H5c-1.1 0-2 .9-2 2v14c0 1.1.9 2 2 2h14c1.1 0 2-.9 2-2V5c0-1.1-.9-2-2-2zM9 17H7v-7h2v7zm4 0h-2V7h2v10zm4 0h-2v-4h2v4z\"/>\n",
              "    </g>\n",
              "</svg>\n",
              "      </button>\n",
              "\n",
              "<style>\n",
              "  .colab-df-quickchart {\n",
              "      --bg-color: #E8F0FE;\n",
              "      --fill-color: #1967D2;\n",
              "      --hover-bg-color: #E2EBFA;\n",
              "      --hover-fill-color: #174EA6;\n",
              "      --disabled-fill-color: #AAA;\n",
              "      --disabled-bg-color: #DDD;\n",
              "  }\n",
              "\n",
              "  [theme=dark] .colab-df-quickchart {\n",
              "      --bg-color: #3B4455;\n",
              "      --fill-color: #D2E3FC;\n",
              "      --hover-bg-color: #434B5C;\n",
              "      --hover-fill-color: #FFFFFF;\n",
              "      --disabled-bg-color: #3B4455;\n",
              "      --disabled-fill-color: #666;\n",
              "  }\n",
              "\n",
              "  .colab-df-quickchart {\n",
              "    background-color: var(--bg-color);\n",
              "    border: none;\n",
              "    border-radius: 50%;\n",
              "    cursor: pointer;\n",
              "    display: none;\n",
              "    fill: var(--fill-color);\n",
              "    height: 32px;\n",
              "    padding: 0;\n",
              "    width: 32px;\n",
              "  }\n",
              "\n",
              "  .colab-df-quickchart:hover {\n",
              "    background-color: var(--hover-bg-color);\n",
              "    box-shadow: 0 1px 2px rgba(60, 64, 67, 0.3), 0 1px 3px 1px rgba(60, 64, 67, 0.15);\n",
              "    fill: var(--button-hover-fill-color);\n",
              "  }\n",
              "\n",
              "  .colab-df-quickchart-complete:disabled,\n",
              "  .colab-df-quickchart-complete:disabled:hover {\n",
              "    background-color: var(--disabled-bg-color);\n",
              "    fill: var(--disabled-fill-color);\n",
              "    box-shadow: none;\n",
              "  }\n",
              "\n",
              "  .colab-df-spinner {\n",
              "    border: 2px solid var(--fill-color);\n",
              "    border-color: transparent;\n",
              "    border-bottom-color: var(--fill-color);\n",
              "    animation:\n",
              "      spin 1s steps(1) infinite;\n",
              "  }\n",
              "\n",
              "  @keyframes spin {\n",
              "    0% {\n",
              "      border-color: transparent;\n",
              "      border-bottom-color: var(--fill-color);\n",
              "      border-left-color: var(--fill-color);\n",
              "    }\n",
              "    20% {\n",
              "      border-color: transparent;\n",
              "      border-left-color: var(--fill-color);\n",
              "      border-top-color: var(--fill-color);\n",
              "    }\n",
              "    30% {\n",
              "      border-color: transparent;\n",
              "      border-left-color: var(--fill-color);\n",
              "      border-top-color: var(--fill-color);\n",
              "      border-right-color: var(--fill-color);\n",
              "    }\n",
              "    40% {\n",
              "      border-color: transparent;\n",
              "      border-right-color: var(--fill-color);\n",
              "      border-top-color: var(--fill-color);\n",
              "    }\n",
              "    60% {\n",
              "      border-color: transparent;\n",
              "      border-right-color: var(--fill-color);\n",
              "    }\n",
              "    80% {\n",
              "      border-color: transparent;\n",
              "      border-right-color: var(--fill-color);\n",
              "      border-bottom-color: var(--fill-color);\n",
              "    }\n",
              "    90% {\n",
              "      border-color: transparent;\n",
              "      border-bottom-color: var(--fill-color);\n",
              "    }\n",
              "  }\n",
              "</style>\n",
              "\n",
              "      <script>\n",
              "        async function quickchart(key) {\n",
              "          const quickchartButtonEl =\n",
              "            document.querySelector('#' + key + ' button');\n",
              "          quickchartButtonEl.disabled = true;  // To prevent multiple clicks.\n",
              "          quickchartButtonEl.classList.add('colab-df-spinner');\n",
              "          try {\n",
              "            const charts = await google.colab.kernel.invokeFunction(\n",
              "                'suggestCharts', [key], {});\n",
              "          } catch (error) {\n",
              "            console.error('Error during call to suggestCharts:', error);\n",
              "          }\n",
              "          quickchartButtonEl.classList.remove('colab-df-spinner');\n",
              "          quickchartButtonEl.classList.add('colab-df-quickchart-complete');\n",
              "        }\n",
              "        (() => {\n",
              "          let quickchartButtonEl =\n",
              "            document.querySelector('#df-d09d17e6-21a6-4905-8a34-6dc5c2e51ce4 button');\n",
              "          quickchartButtonEl.style.display =\n",
              "            google.colab.kernel.accessAllowed ? 'block' : 'none';\n",
              "        })();\n",
              "      </script>\n",
              "    </div>\n",
              "\n",
              "    </div>\n",
              "  </div>\n"
            ],
            "application/vnd.google.colaboratory.intrinsic+json": {
              "type": "dataframe",
              "variable_name": "df",
              "summary": "{\n  \"name\": \"df\",\n  \"rows\": 1000,\n  \"fields\": [\n    {\n      \"column\": \"order_id\",\n      \"properties\": {\n        \"dtype\": \"number\",\n        \"std\": 288,\n        \"min\": 1,\n        \"max\": 1000,\n        \"num_unique_values\": 1000,\n        \"samples\": [\n          522,\n          738,\n          741\n        ],\n        \"semantic_type\": \"\",\n        \"description\": \"\"\n      }\n    },\n    {\n      \"column\": \"date\",\n      \"properties\": {\n        \"dtype\": \"category\",\n        \"num_unique_values\": 348,\n        \"samples\": [\n          \"03-01-2023\",\n          \"09-01-2022\",\n          \"12/16/2022\"\n        ],\n        \"semantic_type\": \"\",\n        \"description\": \"\"\n      }\n    },\n    {\n      \"column\": \"item_name\",\n      \"properties\": {\n        \"dtype\": \"category\",\n        \"num_unique_values\": 7,\n        \"samples\": [\n          \"Aalopuri\",\n          \"Vadapav\",\n          \"Sandwich\"\n        ],\n        \"semantic_type\": \"\",\n        \"description\": \"\"\n      }\n    },\n    {\n      \"column\": \"item_type\",\n      \"properties\": {\n        \"dtype\": \"category\",\n        \"num_unique_values\": 2,\n        \"samples\": [\n          \"Beverages\",\n          \"Fastfood\"\n        ],\n        \"semantic_type\": \"\",\n        \"description\": \"\"\n      }\n    },\n    {\n      \"column\": \"item_price\",\n      \"properties\": {\n        \"dtype\": \"number\",\n        \"std\": 14,\n        \"min\": 20,\n        \"max\": 60,\n        \"num_unique_values\": 5,\n        \"samples\": [\n          25,\n          40\n        ],\n        \"semantic_type\": \"\",\n        \"description\": \"\"\n      }\n    },\n    {\n      \"column\": \"quantity\",\n      \"properties\": {\n        \"dtype\": \"number\",\n        \"std\": 4,\n        \"min\": 1,\n        \"max\": 15,\n        \"num_unique_values\": 15,\n        \"samples\": [\n          4,\n          11\n        ],\n        \"semantic_type\": \"\",\n        \"description\": \"\"\n      }\n    },\n    {\n      \"column\": \"transaction_amount\",\n      \"properties\": {\n        \"dtype\": \"number\",\n        \"std\": 204,\n        \"min\": 20,\n        \"max\": 900,\n        \"num_unique_values\": 48,\n        \"samples\": [\n          120,\n          25\n        ],\n        \"semantic_type\": \"\",\n        \"description\": \"\"\n      }\n    },\n    {\n      \"column\": \"transaction_type\",\n      \"properties\": {\n        \"dtype\": \"category\",\n        \"num_unique_values\": 2,\n        \"samples\": [\n          \"Online\",\n          \"Cash\"\n        ],\n        \"semantic_type\": \"\",\n        \"description\": \"\"\n      }\n    },\n    {\n      \"column\": \"received_by\",\n      \"properties\": {\n        \"dtype\": \"category\",\n        \"num_unique_values\": 2,\n        \"samples\": [\n          \"Mrs.\",\n          \"Mr.\"\n        ],\n        \"semantic_type\": \"\",\n        \"description\": \"\"\n      }\n    },\n    {\n      \"column\": \"time_of_sale\",\n      \"properties\": {\n        \"dtype\": \"category\",\n        \"num_unique_values\": 5,\n        \"samples\": [\n          \"Afternoon\",\n          \"Midnight\"\n        ],\n        \"semantic_type\": \"\",\n        \"description\": \"\"\n      }\n    }\n  ]\n}"
            }
          },
          "metadata": {},
          "execution_count": 5
        }
      ]
    },
    {
      "cell_type": "code",
      "source": [
        "#shows data type of cols\n",
        "#obj means string\n",
        "df.dtypes"
      ],
      "metadata": {
        "colab": {
          "base_uri": "https://localhost:8080/",
          "height": 398
        },
        "id": "-NGWfJwEPhs9",
        "outputId": "3cfc18eb-b4bd-4fe2-9e95-3e0023932f19"
      },
      "execution_count": null,
      "outputs": [
        {
          "output_type": "execute_result",
          "data": {
            "text/plain": [
              "order_id               int64\n",
              "date                  object\n",
              "item_name             object\n",
              "item_type             object\n",
              "item_price             int64\n",
              "quantity               int64\n",
              "transaction_amount     int64\n",
              "transaction_type      object\n",
              "received_by           object\n",
              "time_of_sale          object\n",
              "dtype: object"
            ],
            "text/html": [
              "<div>\n",
              "<style scoped>\n",
              "    .dataframe tbody tr th:only-of-type {\n",
              "        vertical-align: middle;\n",
              "    }\n",
              "\n",
              "    .dataframe tbody tr th {\n",
              "        vertical-align: top;\n",
              "    }\n",
              "\n",
              "    .dataframe thead th {\n",
              "        text-align: right;\n",
              "    }\n",
              "</style>\n",
              "<table border=\"1\" class=\"dataframe\">\n",
              "  <thead>\n",
              "    <tr style=\"text-align: right;\">\n",
              "      <th></th>\n",
              "      <th>0</th>\n",
              "    </tr>\n",
              "  </thead>\n",
              "  <tbody>\n",
              "    <tr>\n",
              "      <th>order_id</th>\n",
              "      <td>int64</td>\n",
              "    </tr>\n",
              "    <tr>\n",
              "      <th>date</th>\n",
              "      <td>object</td>\n",
              "    </tr>\n",
              "    <tr>\n",
              "      <th>item_name</th>\n",
              "      <td>object</td>\n",
              "    </tr>\n",
              "    <tr>\n",
              "      <th>item_type</th>\n",
              "      <td>object</td>\n",
              "    </tr>\n",
              "    <tr>\n",
              "      <th>item_price</th>\n",
              "      <td>int64</td>\n",
              "    </tr>\n",
              "    <tr>\n",
              "      <th>quantity</th>\n",
              "      <td>int64</td>\n",
              "    </tr>\n",
              "    <tr>\n",
              "      <th>transaction_amount</th>\n",
              "      <td>int64</td>\n",
              "    </tr>\n",
              "    <tr>\n",
              "      <th>transaction_type</th>\n",
              "      <td>object</td>\n",
              "    </tr>\n",
              "    <tr>\n",
              "      <th>received_by</th>\n",
              "      <td>object</td>\n",
              "    </tr>\n",
              "    <tr>\n",
              "      <th>time_of_sale</th>\n",
              "      <td>object</td>\n",
              "    </tr>\n",
              "  </tbody>\n",
              "</table>\n",
              "</div><br><label><b>dtype:</b> object</label>"
            ]
          },
          "metadata": {},
          "execution_count": 6
        }
      ]
    },
    {
      "cell_type": "markdown",
      "source": [
        "This table tells us what kind of information each column holds. For example, some columns have numbers like prices or quantities, while others have words like item names or transaction types. It helps us understand how the data is stored so we can clean or analyze it properly.Text represents object"
      ],
      "metadata": {
        "id": "GSldew44dB2l"
      }
    },
    {
      "cell_type": "code",
      "source": [
        "df.shape\n"
      ],
      "metadata": {
        "colab": {
          "base_uri": "https://localhost:8080/"
        },
        "id": "NoOFFMVpPohk",
        "outputId": "bea39446-d010-4da5-b36f-bcacdc3e5f3f"
      },
      "execution_count": null,
      "outputs": [
        {
          "output_type": "execute_result",
          "data": {
            "text/plain": [
              "(1000, 10)"
            ]
          },
          "metadata": {},
          "execution_count": 7
        }
      ]
    },
    {
      "cell_type": "markdown",
      "source": [
        "# MEAN\n",
        "\n",
        "\n",
        "\n",
        "If we take all the orders and find out how much money was spent in each one, then divide the total by the number of orders, we get an average amount. That average is 275.23 rupees — meaning most people spend around this much when they buy something from the fast food shop.."
      ],
      "metadata": {
        "id": "h8kyALFNdJe1"
      }
    },
    {
      "cell_type": "code",
      "source": [
        "\n",
        "mean=np.mean(df['transaction_amount'])\n",
        "mean"
      ],
      "metadata": {
        "colab": {
          "base_uri": "https://localhost:8080/"
        },
        "id": "CRs0hWf7P44t",
        "outputId": "56e2e843-35bc-49a0-8738-e5786db98162"
      },
      "execution_count": null,
      "outputs": [
        {
          "output_type": "execute_result",
          "data": {
            "text/plain": [
              "np.float64(275.23)"
            ]
          },
          "metadata": {},
          "execution_count": 8
        }
      ]
    },
    {
      "cell_type": "code",
      "source": [
        "#also find mean using pandas\n",
        "mean=df['transaction_amount'].mean()\n",
        "mean"
      ],
      "metadata": {
        "colab": {
          "base_uri": "https://localhost:8080/"
        },
        "id": "MUR-64h7QPsC",
        "outputId": "633bbce1-8187-414e-88bd-c9350d5251c9"
      },
      "execution_count": null,
      "outputs": [
        {
          "output_type": "execute_result",
          "data": {
            "text/plain": [
              "np.float64(275.23)"
            ]
          },
          "metadata": {},
          "execution_count": 9
        }
      ]
    },
    {
      "cell_type": "markdown",
      "source": [
        "# MEDIAN\n",
        "If we list all customer bills from the lowest to the highest and pick the one exactly in the middle, it’s 240 rupees. This is the median, and it tells us that a typical sale is around 240 rupees — not too small, not too big."
      ],
      "metadata": {
        "id": "I9c522m4dyvS"
      }
    },
    {
      "cell_type": "code",
      "source": [
        "#If we are taking median of a column, it means it is sorted and the middle value is median\n",
        "#using numpy\n",
        "median = np.median(df['transaction_amount'])\n",
        "print(median)\n",
        "print(type(median))"
      ],
      "metadata": {
        "colab": {
          "base_uri": "https://localhost:8080/"
        },
        "id": "6no08Y9dQYvP",
        "outputId": "94063663-2810-4916-c2b2-c229554bd9b1"
      },
      "execution_count": null,
      "outputs": [
        {
          "output_type": "stream",
          "name": "stdout",
          "text": [
            "240.0\n",
            "<class 'numpy.float64'>\n"
          ]
        }
      ]
    },
    {
      "cell_type": "code",
      "source": [
        "median= df['transaction_amount'].median()\n",
        "median\n",
        "print(type(median))"
      ],
      "metadata": {
        "colab": {
          "base_uri": "https://localhost:8080/"
        },
        "id": "2LUpUwQrSa6C",
        "outputId": "c0a8bf4c-4127-4996-c6c0-2a2e6d121eb4"
      },
      "execution_count": null,
      "outputs": [
        {
          "output_type": "stream",
          "name": "stdout",
          "text": [
            "<class 'float'>\n"
          ]
        }
      ]
    },
    {
      "cell_type": "markdown",
      "source": [
        "# MODE\n",
        "Among all the customer orders, the most common quantity people buy is 13 items. In fact, 86 customers bought exactly 13 items — that’s more than any other quantity in the entire dataset. This helps us understand the most popular purchase size.\n",
        "\n"
      ],
      "metadata": {
        "id": "8CTy1cTfeJn-"
      }
    },
    {
      "cell_type": "code",
      "source": [
        "# mode is most frequent data using scipy gives mode along with frequency\n",
        "from scipy import stats\n",
        "mode=stats.mode(df['quantity'])\n",
        "mode"
      ],
      "metadata": {
        "colab": {
          "base_uri": "https://localhost:8080/"
        },
        "id": "nxcm_YNPSolB",
        "outputId": "caf05588-c61a-4458-a5d8-70dd7d73efed"
      },
      "execution_count": null,
      "outputs": [
        {
          "output_type": "execute_result",
          "data": {
            "text/plain": [
              "ModeResult(mode=np.int64(13), count=np.int64(86))"
            ]
          },
          "metadata": {},
          "execution_count": 12
        }
      ]
    },
    {
      "cell_type": "code",
      "source": [
        "#mode using pandas only give mode number\n",
        "mode=df['quantity'].mode()\n",
        "mode"
      ],
      "metadata": {
        "colab": {
          "base_uri": "https://localhost:8080/",
          "height": 116
        },
        "id": "Oo5OzHhUTYhg",
        "outputId": "17fe876a-03ac-4003-fc8f-0155d577dcf2"
      },
      "execution_count": null,
      "outputs": [
        {
          "output_type": "execute_result",
          "data": {
            "text/plain": [
              "0    13\n",
              "Name: quantity, dtype: int64"
            ],
            "text/html": [
              "<div>\n",
              "<style scoped>\n",
              "    .dataframe tbody tr th:only-of-type {\n",
              "        vertical-align: middle;\n",
              "    }\n",
              "\n",
              "    .dataframe tbody tr th {\n",
              "        vertical-align: top;\n",
              "    }\n",
              "\n",
              "    .dataframe thead th {\n",
              "        text-align: right;\n",
              "    }\n",
              "</style>\n",
              "<table border=\"1\" class=\"dataframe\">\n",
              "  <thead>\n",
              "    <tr style=\"text-align: right;\">\n",
              "      <th></th>\n",
              "      <th>quantity</th>\n",
              "    </tr>\n",
              "  </thead>\n",
              "  <tbody>\n",
              "    <tr>\n",
              "      <th>0</th>\n",
              "      <td>13</td>\n",
              "    </tr>\n",
              "  </tbody>\n",
              "</table>\n",
              "</div><br><label><b>dtype:</b> int64</label>"
            ]
          },
          "metadata": {},
          "execution_count": 13
        }
      ]
    },
    {
      "cell_type": "markdown",
      "source": [
        "# VARIANCE AND ST DEV\n",
        "Variance and standard deviation are ways to tell how much the sales amounts vary from the average (mean).\n",
        "\n",
        "A small value means most customers spent about the same amount.\n",
        "\n",
        "A large value means some spent very little and others spent a lot.\n",
        "\n",
        "In this case, the standard deviation is around 204, which means on average, a transaction amount is about 204 units away from the average sale amount. So, there is a decent amount of variation in how much customers spend.\n",
        "\n"
      ],
      "metadata": {
        "id": "gC7vipQfeijX"
      }
    },
    {
      "cell_type": "code",
      "source": [
        "#It tells you how far your data values are from the mean.\n",
        "#If the variance is small, your values are close to each other.\n",
        "#If the variance is large, your values are more spread out.\n",
        "data_variance = np.var(df['transaction_amount'])\n",
        "data_variance"
      ],
      "metadata": {
        "colab": {
          "base_uri": "https://localhost:8080/"
        },
        "id": "L4M-K8EPUZsQ",
        "outputId": "f86b9857-7a92-45e4-de62-2c1642bee197"
      },
      "execution_count": null,
      "outputs": [
        {
          "output_type": "execute_result",
          "data": {
            "text/plain": [
              "41738.79710000015"
            ]
          },
          "metadata": {},
          "execution_count": 14
        }
      ]
    },
    {
      "cell_type": "code",
      "source": [
        "data_variance = df['transaction_amount'].var()\n",
        "data_variance"
      ],
      "metadata": {
        "colab": {
          "base_uri": "https://localhost:8080/"
        },
        "id": "-xaLbX6QUiIO",
        "outputId": "50a2f939-1e97-4ad6-d9c2-1a9d73d09e22"
      },
      "execution_count": null,
      "outputs": [
        {
          "output_type": "execute_result",
          "data": {
            "text/plain": [
              "41780.57767767783"
            ]
          },
          "metadata": {},
          "execution_count": 15
        }
      ]
    },
    {
      "cell_type": "code",
      "source": [
        "#answer of both np and pandas are different bcz numpy assumes whole population and divide by total(n) while pd deal with sample and divide with n-1\n"
      ],
      "metadata": {
        "id": "p1Egde6YXCO_"
      },
      "execution_count": null,
      "outputs": []
    },
    {
      "cell_type": "code",
      "source": [
        "# Standard Deviation measures how much the values in a dataset deviate (differ) from the mean, just like variance but in the original units of the data.\n",
        "data_std_dev = df['transaction_amount'].std()\n",
        "data_std_dev"
      ],
      "metadata": {
        "colab": {
          "base_uri": "https://localhost:8080/"
        },
        "id": "oOoQllL7Yan2",
        "outputId": "7acffda4-173d-4591-bd1e-a27536df1baf"
      },
      "execution_count": null,
      "outputs": [
        {
          "output_type": "execute_result",
          "data": {
            "text/plain": [
              "204.4029786418922"
            ]
          },
          "metadata": {},
          "execution_count": 17
        }
      ]
    },
    {
      "cell_type": "code",
      "source": [
        "data_std_dev = np.std(df['transaction_amount'])\n",
        "data_std_dev"
      ],
      "metadata": {
        "colab": {
          "base_uri": "https://localhost:8080/"
        },
        "id": "2Y_3Po9ZYz_t",
        "outputId": "79980fc4-9d2c-4764-df5e-4b670ee74b5a"
      },
      "execution_count": null,
      "outputs": [
        {
          "output_type": "execute_result",
          "data": {
            "text/plain": [
              "204.3007515894157"
            ]
          },
          "metadata": {},
          "execution_count": 18
        }
      ]
    },
    {
      "cell_type": "markdown",
      "source": [
        "# RANGE\n",
        "The highest transaction recorded was 900, and the lowest was 20.\n",
        "So, the range of transaction amounts is 880, which means there's a wide gap between the smallest and the biggest sale."
      ],
      "metadata": {
        "id": "EDoglUNLe3qq"
      }
    },
    {
      "cell_type": "code",
      "source": [
        "max=np.max(df['transaction_amount'])\n",
        "print(max)\n",
        "min=np.min(df['transaction_amount'])\n",
        "print(min)\n",
        "range=max-min\n",
        "range"
      ],
      "metadata": {
        "id": "0hhUokKOY7hY",
        "colab": {
          "base_uri": "https://localhost:8080/"
        },
        "outputId": "8c9fc32f-9309-4b47-d936-8c58cec28a9d"
      },
      "execution_count": null,
      "outputs": [
        {
          "output_type": "stream",
          "name": "stdout",
          "text": [
            "900\n",
            "20\n"
          ]
        },
        {
          "output_type": "execute_result",
          "data": {
            "text/plain": [
              "880"
            ]
          },
          "metadata": {},
          "execution_count": 19
        }
      ]
    },
    {
      "cell_type": "code",
      "source": [
        "#range usig pd\n",
        "range=df['transaction_amount'].max()-df['transaction_amount'].min()\n",
        "range"
      ],
      "metadata": {
        "colab": {
          "base_uri": "https://localhost:8080/"
        },
        "id": "oOos2rTkxXSz",
        "outputId": "966992b9-8d8e-4ad2-b1a1-3a979d135c37"
      },
      "execution_count": null,
      "outputs": [
        {
          "output_type": "execute_result",
          "data": {
            "text/plain": [
              "880"
            ]
          },
          "metadata": {},
          "execution_count": 20
        }
      ]
    },
    {
      "cell_type": "markdown",
      "source": [
        "# PERCENTILE\n",
        "Percentile tells you the value below which a certain percentage of data falls.\n",
        "50% (Q2) or median = ₹240"
      ],
      "metadata": {
        "id": "UWJkwMx2fPDl"
      }
    },
    {
      "cell_type": "code",
      "source": [
        "#A percentile is a value that tells you how a data point compares to the rest of the data.\n",
        "percentile=np.percentile(df['transaction_amount'],50)\n",
        "print(percentile)\n",
        "# output means 50% of values lies below 240"
      ],
      "metadata": {
        "colab": {
          "base_uri": "https://localhost:8080/"
        },
        "id": "iyZxOZwNyJQB",
        "outputId": "627931f9-f63b-43a6-f367-49c0a769807f"
      },
      "execution_count": null,
      "outputs": [
        {
          "output_type": "stream",
          "name": "stdout",
          "text": [
            "240.0\n"
          ]
        }
      ]
    },
    {
      "cell_type": "markdown",
      "source": [
        "₹120 (25th percentile or 1st quartile):\n",
        "This means that 25% of all the sales transactions were ₹120 or less. These are the smallest or cheapest sales.\n",
        "\n",
        "₹240 (50th percentile or median):\n",
        "This tells us that half (50%) of the sales were ₹240 or less, and half were more than ₹240. This value represents the middle point of all your sales.\n",
        "\n",
        "₹360 (75th percentile or 3rd quartile):\n",
        "This means that 75% of the sales were ₹360 or less. So only the top 25% of transactions were above ₹360."
      ],
      "metadata": {
        "id": "Yfis7pBgf_m7"
      }
    },
    {
      "cell_type": "code",
      "source": [
        "#Percentile divides data into 100 equal parts, while quantile divides data into any number of equal parts (like 4 for quartiles, 10 for deciles, etc.).\n",
        "quantile=np.quantile(df['transaction_amount'],[0.25,0.5,0.75])\n",
        "print(quantile)"
      ],
      "metadata": {
        "colab": {
          "base_uri": "https://localhost:8080/"
        },
        "id": "KDxIqAM8yf3Q",
        "outputId": "c4271f75-50a9-43b8-e773-ab7c84f6434e"
      },
      "execution_count": null,
      "outputs": [
        {
          "output_type": "stream",
          "name": "stdout",
          "text": [
            "[120. 240. 360.]\n"
          ]
        }
      ]
    },
    {
      "cell_type": "markdown",
      "source": [
        "# IQR\n",
        "Q3 − Q1 = 30.0\n",
        "This means the central half of your items vary within a price range of ₹30.\n",
        " The prices in the \"normal\" middle range (not too cheap, not too costly) are about ₹30 apart.\n"
      ],
      "metadata": {
        "id": "BHqA3TJ5gVZT"
      }
    },
    {
      "cell_type": "code",
      "source": [
        "#The Interquartile Range (IQR) is a measure of statistical dispersion, i.e., how spread out the middle 50% of your data is.\n",
        "#IQR=Q3−Q1\n",
        "IQR=stats.iqr(df['item_price'],interpolation='midpoint')\n",
        "IQR"
      ],
      "metadata": {
        "colab": {
          "base_uri": "https://localhost:8080/"
        },
        "id": "OuqAwxZz0EMj",
        "outputId": "3d89049a-fa29-43c6-be8c-893a6e4add5b"
      },
      "execution_count": null,
      "outputs": [
        {
          "output_type": "execute_result",
          "data": {
            "text/plain": [
              "np.float64(30.0)"
            ]
          },
          "metadata": {},
          "execution_count": 23
        }
      ]
    },
    {
      "cell_type": "code",
      "source": [
        "IQR=stats.iqr(df['item_price'])\n",
        "IQR\n",
        "#by default linear interpolation"
      ],
      "metadata": {
        "colab": {
          "base_uri": "https://localhost:8080/"
        },
        "id": "WzlIdfVA0uu-",
        "outputId": "21fcafa3-71d6-4e90-f15f-2077186abb16"
      },
      "execution_count": null,
      "outputs": [
        {
          "output_type": "execute_result",
          "data": {
            "text/plain": [
              "np.float64(30.0)"
            ]
          },
          "metadata": {},
          "execution_count": 24
        }
      ]
    },
    {
      "cell_type": "code",
      "source": [
        "#You often don’t land exactly on a data point.\n",
        "#So, we need to interpolate between two values to estimate Q1 and Q3."
      ],
      "metadata": {
        "id": "zKr1fee01MNt"
      },
      "execution_count": null,
      "outputs": []
    },
    {
      "cell_type": "markdown",
      "source": [
        "# Histogram with KDE Curve  \n",
        "x-axis: Transaction amount (in Rs)  \n",
        "y-axis: Number of transactions  \n",
        "\n",
        "This graph shows how much money customers usually spend in one transaction.  \n",
        "Each bar shows how many people paid within a certain amount range.  \n",
        "The smooth curve on top (KDE)\n",
        "helps us see the overall pattern — most customers spend in the lower range, while only a few make high-value purchases.  \n",
        "This helps identify customer behavior, pricing strategy, and unusual (outlier) transactions.\n",
        "\n",
        "# EXPLANATION OF CHART\n",
        "\n",
        "The majority of transactions are clustered on the left side (between Rs 0 and Rs 300).\n",
        "\n",
        "For example, many transactions were around Rs 20, Rs 150, or Rs 200, which aligns with items like \"Vadapav\", \"Aalopuri\", or \"Sugarcane juice\" in the dataset.\n",
        "\n",
        "As the transaction amount increases, the frequency of transactions decreases.\n",
        "\n",
        "This suggests lower-cost items are sold more frequently.\n",
        "\n",
        "The distribution is right-skewed, meaning that while most transactions are small, a few larger transactions (Rs 700–900) do occur but rarely."
      ],
      "metadata": {
        "id": "H2hIW-KauoPb"
      }
    },
    {
      "cell_type": "code",
      "source": [
        "#Sales Amount Distribution (Histogram + KDE)\n",
        "\n",
        "plt.figure(figsize=(8, 5))\n",
        "sns.histplot(df['transaction_amount'], kde=True, color='skyblue')\n",
        "plt.title(\"Distribution of Transaction Amounts\")\n",
        "plt.xlabel(\"Transaction Amount (Rs)\")\n",
        "plt.ylabel(\"Number of Transactions\")\n",
        "plt.show()\n",
        "\n"
      ],
      "metadata": {
        "colab": {
          "base_uri": "https://localhost:8080/",
          "height": 487
        },
        "id": "6YEAmc5IrOpw",
        "outputId": "83b7485c-718b-414e-8cb1-d7864fa4c94c"
      },
      "execution_count": null,
      "outputs": [
        {
          "output_type": "display_data",
          "data": {
            "text/plain": [
              "<Figure size 800x500 with 1 Axes>"
            ],
            "image/png": "[encoded data removed]"
          },
          "metadata": {}
        }
      ]
    },
    {
      "cell_type": "markdown",
      "source": [
        "# Countplot of Most Selling Items\n",
        "x-axis: Item names\n",
        "y-axis: Number of times each item was sold\n",
        "\n",
        "This graph shows which items are sold most frequently.\n",
        "Each bar represents how many times a specific item was purchased.\n",
        "countplot(): Draws a bar chart showing how often each item was sold.\n",
        "\n",
        "data=df: Uses your dataset.\n",
        "\n",
        "x='item_name': Shows different items on the x-axis.\n",
        "\n",
        "order=...: Sorts the items from most sold to least sold.\n",
        "\n",
        "palette='viridis': Adds color to the bars.\n",
        "\n",
        "xticks(rotation=45): Tilts labels so they don’t overlap.\n",
        "\n",
        "tight_layout(): Fixes spacing for better display.\n",
        "\n",
        "# Explanation\n",
        "\n",
        "Cold coffee is the most ordered item, with over 160 orders.\n",
        "\n",
        "It is followed by Sugarcane juice, Panipuri, and Frankie — all having around 140–155 orders, indicating high popularity.\n",
        "\n",
        "Even traditional street foods like Aalopuri and Vadapav were ordered more than 130 times, showing consistent demand.\n",
        "\n",
        "Sandwiches, while slightly lower, still had a strong presence with over 125 orders.\n",
        "\n",
        "This chart helps identify customer preferences:\n",
        "Beverages like Cold Coffee and Sugarcane Juice are extremely popular.\n",
        "Traditional fast food items also see steady, high demand.\n"
      ],
      "metadata": {
        "id": "0YOL3X7oxAwV"
      }
    },
    {
      "cell_type": "code",
      "source": [
        "sns.countplot(data=df, x='item_name', order=df['item_name'].value_counts().index, hue='item_name', palette='viridis', legend=False)\n",
        "plt.title('Most Ordered Items')\n",
        "plt.xlabel('Item Name')\n",
        "plt.ylabel('Number of Orders')\n",
        "plt.xticks(rotation=45)\n",
        "plt.tight_layout()\n",
        "plt.show()\n"
      ],
      "metadata": {
        "colab": {
          "base_uri": "https://localhost:8080/",
          "height": 487
        },
        "id": "W6-4f3FFr9QJ",
        "outputId": "086c294d-56b3-4ae3-fd5f-e2e94480a004"
      },
      "execution_count": null,
      "outputs": [
        {
          "output_type": "display_data",
          "data": {
            "text/plain": [
              "<Figure size 640x480 with 1 Axes>"
            ],
            "image/png": "[encoded data removed]"
          },
          "metadata": {}
        }
      ]
    },
    {
      "cell_type": "markdown",
      "source": [
        "# Count Plot – Time of Sale\n",
        "\n",
        "\n",
        " plt.figure(figsize=(10, 6)): Makes the graph bigger so all item names fit nicely.\n",
        "\n",
        "sns.countplot(...): Draws a bar chart that shows how many times each item was sold.\n",
        "\n",
        "data=df: Uses your dataset to pull the data.\n",
        "\n",
        "x='item_name': Item names are shown on the x-axis.\n",
        "\n",
        "order=df['item_name'].value_counts().index: Arranges items from most sold to least sold.\n",
        "\n",
        "palette='viridis': Colors the bars using a nice color theme.\n",
        "\n",
        "plt.title(...), xlabel, ylabel: Add titles and labels to the chart.\n",
        "\n",
        "plt.xticks(rotation=45): Rotates the item names so they don't overlap.\n",
        "\n",
        "plt.tight_layout(): Fixes layout spacing for a clean look.\n",
        "\n",
        "plt.show(): Displays the chart.\n",
        "\n",
        "\n",
        " The y-axis shows how many times each item was sold.\n",
        "\n",
        "# Explanation\n",
        "\n",
        " Night and Afternoon saw the highest number of transactions, each with just above 200 sales, making them the busiest periods.\n",
        "Evening and Midnight had slightly fewer sales (around 200), but still significant.\n",
        "Morning had the lowest number of transactions, though still close to others, indicating relatively balanced sales throughout the day."
      ],
      "metadata": {
        "id": "BlYEubDIzhx0"
      }
    },
    {
      "cell_type": "code",
      "source": [
        "plt.figure(figsize=(8, 5))\n",
        "sns.countplot(data=df, x='time_of_sale', order=df['time_of_sale'].value_counts().index,hue='time_of_sale' ,palette='mako')\n",
        "plt.title('Sales by Time of Day')\n",
        "plt.xlabel('Time of Sale')\n",
        "plt.ylabel('Number of Transactions')\n",
        "plt.show()\n"
      ],
      "metadata": {
        "colab": {
          "base_uri": "https://localhost:8080/",
          "height": 487
        },
        "id": "2WkqMfCEv1qZ",
        "outputId": "73e691b8-d7af-4bfe-9f7d-a0143f29b7d2"
      },
      "execution_count": null,
      "outputs": [
        {
          "output_type": "display_data",
          "data": {
            "text/plain": [
              "<Figure size 800x500 with 1 Axes>"
            ],
            "image/png": "[encoded data removed]"
          },
          "metadata": {}
        }
      ]
    },
    {
      "cell_type": "markdown",
      "source": [
        "# Box plot\n",
        "It tells us how prices are spread out for each item type.\n",
        "Each box shows the range of prices – from lowest to highest.\n",
        "It also helps spot if any item has a very high or low price (called outliers).\n",
        "\n",
        "# 1. Cash & Online Transactions:\n",
        "Bottom of the box (Q1) = 20\n",
        "\n",
        " This means 25% of items cost 20 or less in these transactions.\n",
        "\n",
        "Middle line (Median or Q2) = 25\n",
        "\n",
        " So, half of all item prices are below or equal to 25, and half are above. This is the \"typical\" price.\n",
        "\n",
        "Top of the box (Q3) = 50\n",
        "\n",
        " This means 75% of items are priced 50 or less.\n",
        "\n",
        "### Upper whisker extends to 60\n",
        "→ The highest non-outlier price is 60. Whiskers show the data spread beyond the box, usually up to 1.5 * IQR (interquartile range = Q3 - Q1).\n",
        "\n",
        "### No lower whisker appears\n",
        "→ This happens when the minimum value (20) is equal to Q1, so there’s no data below 20 to show as a whisker.\n",
        "\n",
        "# 2. Unknown Transactions:\n",
        "Q1 = 20, Median = 25, Q3 = 40\n",
        "→ So, 75% of items cost 40 or less.\n",
        "\n",
        "Whisker goes up to 60, showing max typical price.\n",
        "\n",
        "Again, no lower whisker, since Q1 = min = 20, so nothing lower to show.\n",
        "\n",
        "A whisker is a line that shows the spread of data outside the box — but only within 1.5×IQR from the box edge."
      ],
      "metadata": {
        "id": "kQmbIU2W3DnS"
      }
    },
    {
      "cell_type": "code",
      "source": [
        "\n",
        "\n",
        "# Convert 'item_price' to numeric and drop rows with NaNs\n",
        "df['item_price'] = pd.to_numeric(df['item_price'], errors='coerce')\n",
        "df.dropna(subset=['item_price'], inplace=True)\n",
        "\n",
        "# Fill NaNs in 'transaction_type' if any and convert to category\n",
        "df['transaction_type'] = df['transaction_type'].fillna('Unknown').astype('category')\n",
        "\n",
        "# Create the boxplot\n",
        "plt.figure(figsize=(10, 6))\n",
        "sns.boxplot(x='transaction_type', y='item_price', data=df, palette='viridis')\n",
        "\n",
        "# Add median labels on the boxplot\n",
        "medians = df.groupby('transaction_type')['item_price'].median()\n",
        "for i, transaction_type in enumerate(df['transaction_type'].cat.categories):\n",
        "    median_val = medians[transaction_type]\n",
        "    plt.text(i, median_val, f'Median: {median_val:.1f}',\n",
        "             horizontalalignment='center', color='black', weight='semibold',\n",
        "             bbox=dict(facecolor='white', alpha=0.6, edgecolor='none', boxstyle='round,pad=0.2'))\n",
        "\n",
        "plt.title('Item Price Distribution by Transaction Type')\n",
        "plt.xlabel('Transaction Type')\n",
        "plt.ylabel('Item Price (Rs)')\n",
        "plt.grid(True, linestyle='--', alpha=0.7)\n",
        "plt.tight_layout()\n",
        "plt.show()\n"
      ],
      "metadata": {
        "colab": {
          "base_uri": "https://localhost:8080/",
          "height": 728
        },
        "id": "9BNYZSxiyiRW",
        "outputId": "187e2497-4571-4582-a687-6f76ea082804"
      },
      "execution_count": null,
      "outputs": [
        {
          "output_type": "stream",
          "name": "stderr",
          "text": [
            "/tmp/ipython-input-57-1619375579.py:10: FutureWarning: \n",
            "\n",
            "Passing `palette` without assigning `hue` is deprecated and will be removed in v0.14.0. Assign the `x` variable to `hue` and set `legend=False` for the same effect.\n",
            "\n",
            "  sns.boxplot(x='transaction_type', y='item_price', data=df, palette='viridis')\n",
            "/tmp/ipython-input-57-1619375579.py:13: FutureWarning: The default of observed=False is deprecated and will be changed to True in a future version of pandas. Pass observed=False to retain current behavior or observed=True to adopt the future default and silence this warning.\n",
            "  medians = df.groupby('transaction_type')['item_price'].median()\n"
          ]
        },
        {
          "output_type": "display_data",
          "data": {
            "text/plain": [
              "<Figure size 1000x600 with 1 Axes>"
            ],
            "image/png": "[encoded data removed]"
          },
          "metadata": {}
        }
      ]
    },
    {
      "cell_type": "markdown",
      "source": [
        "# Pie Chart\n",
        "\n",
        "df['item_type'].value_counts() – counts how many times each type of item was sold (e.g., Fastfood, Beverages).\n",
        "\n",
        "plt.pie(...) – draws a pie chart to show what percentage of total sales came from each item type.\n",
        "\n",
        "autopct='%1.1f%%' – displays the percentage on each slice.\n",
        "\n",
        "plt.axis('equal') – makes sure the pie is a circle, not an oval.\n",
        "\n",
        "The pie chart shows that the majority of sales come from fast food items, which make up almost 69% of total sales. Beverages account for the remaining 31%. This tells us that fast food is the main product category for the business"
      ],
      "metadata": {
        "id": "NT49BQ8U5KRM"
      }
    },
    {
      "cell_type": "code",
      "source": [
        "category_counts = df['item_type'].value_counts()\n",
        "plt.figure(figsize=(6,6))\n",
        "plt.pie(category_counts, labels=category_counts.index, autopct='%1.1f%%', startangle=140, colors=sns.color_palette('pastel'))\n",
        "plt.title('Sales Distribution by Item Type')\n",
        "plt.axis('equal')\n",
        "plt.show()\n"
      ],
      "metadata": {
        "colab": {
          "base_uri": "https://localhost:8080/",
          "height": 528
        },
        "id": "D16nyiAk2pSt",
        "outputId": "8e622848-c7ec-4a97-8f39-81fcee00742a"
      },
      "execution_count": null,
      "outputs": [
        {
          "output_type": "display_data",
          "data": {
            "text/plain": [
              "<Figure size 600x600 with 1 Axes>"
            ],
            "image/png": "[encoded data removed]"
          },
          "metadata": {}
        }
      ]
    },
    {
      "cell_type": "code",
      "source": [],
      "metadata": {
        "id": "MxzeQQOm4qTU"
      },
      "execution_count": null,
      "outputs": []
    }
  ]
}